{
  "nbformat": 4,
  "nbformat_minor": 0,
  "metadata": {
    "colab": {
      "provenance": [],
      "authorship_tag": "ABX9TyMEGPOaF/qjsioIbQiGTElR",
      "include_colab_link": true
    },
    "kernelspec": {
      "name": "python3",
      "display_name": "Python 3"
    },
    "language_info": {
      "name": "python"
    }
  },
  "cells": [
    {
      "cell_type": "markdown",
      "metadata": {
        "id": "view-in-github",
        "colab_type": "text"
      },
      "source": [
        "<a href=\"https://colab.research.google.com/github/210304124278/bubblesort-all-/blob/main/project.ipynb\" target=\"_parent\"><img src=\"https://colab.research.google.com/assets/colab-badge.svg\" alt=\"Open In Colab\"/></a>"
      ]
    },
    {
      "cell_type": "code",
      "execution_count": 2,
      "metadata": {
        "id": "MujMSwZaAbTD"
      },
      "outputs": [],
      "source": [
        "import pandas as pd\n",
        "from sklearn.preprocessing import LabelEncoder\n",
        "import xgboost as xgb\n",
        "\n",
        "def predict_crop_yield(yield_prediction, temperature, rainfall, crop_type):\n",
        "    try:\n",
        "        # Load the dataset\n",
        "        dataset = pd.read_csv(\"yield_prediction.csv\")\n",
        "\n",
        "        # Perform necessary conversions for categorical values\n",
        "        label_encoder = LabelEncoder()\n",
        "        dataset['Crop'] = label_encoder.fit_transform(dataset['Crop'])\n",
        "        dataset['Season'] = label_encoder.fit_transform(dataset['Season'])\n",
        "        dataset['State'] = label_encoder.fit_transform(dataset['Season'])\n",
        "\n",
        "\n",
        "\n",
        "\n",
        "        # Separate features (X) and target variable (y)\n",
        "        X = dataset.drop('Yield', axis=1)\n",
        "        y = dataset['Yield']\n",
        "\n",
        "        # Create DMatrix for XGBoost\n",
        "        dtrain = xgb.DMatrix(X, label=y)\n",
        "\n",
        "        # Set parameters for XGBoost\n",
        "        params = {\n",
        "            'objective': 'reg:squarederror', # Regression task\n",
        "        }\n",
        "\n",
        "        # Train the XGBoost model\n",
        "        model = xgb.train(params, dtrain, num_boost_round=100)\n",
        "\n",
        "        # Create input features for prediction\n",
        "        Crop_encoded = label_encoder.transform([Crop])\n",
        "        Season_encoded = label_encoder.transform([Season])\n",
        "        State_encoded = label_encoder.transform([State])\n",
        "        user_input = pd.DataFrame({'Area': [Area],\n",
        "                                   'Production': [Production],\n",
        "                                   'Annual_Rainfall': [Annual_Rainfall],\n",
        "                                   'Fertilizer': [Fertilizer],\n",
        "                                   'Pesticide': [Pesticide],\n",
        "                                   'Crop_encoded': Crop_encoded,\n",
        "                                   'Season_encoded': Season_encoded,\n",
        "                                   'State_encoded': State_encoded})\n",
        "        duser = xgb.DMatrix(user_input)\n",
        "\n",
        "        # Make prediction based on user input\n",
        "        predicted_yield = model.predict(duser)\n",
        "\n",
        "        return predicted_yield[0]\n",
        "    except Exception as e:\n",
        "        return f\"Error occurred: {str(e)}\"\n",
        "\n",
        "# Example usage:\n",
        "# predicted_yield = predict_crop_yield('crop_data.csv', 25, 100, 'Wheat')\n",
        "# print(\"Predicted crop yield:\", predicted_yield)\n"
      ]
    }
  ]
}