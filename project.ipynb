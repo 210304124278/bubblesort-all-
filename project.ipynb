{
  "nbformat": 4,
  "nbformat_minor": 0,
  "metadata": {
    "colab": {
      "provenance": [],
      "authorship_tag": "ABX9TyMj7KfAuQjY34pSlxJKlbjU",
      "include_colab_link": true
    },
    "kernelspec": {
      "name": "python3",
      "display_name": "Python 3"
    },
    "language_info": {
      "name": "python"
    }
  },
  "cells": [
    {
      "cell_type": "markdown",
      "metadata": {
        "id": "view-in-github",
        "colab_type": "text"
      },
      "source": [
        "<a href=\"https://colab.research.google.com/github/210304124278/bubblesort-all-/blob/main/project.ipynb\" target=\"_parent\"><img src=\"https://colab.research.google.com/assets/colab-badge.svg\" alt=\"Open In Colab\"/></a>"
      ]
    },
    {
      "cell_type": "code",
      "execution_count": null,
      "metadata": {
        "id": "MujMSwZaAbTD"
      },
      "outputs": [],
      "source": [
        "import pandas as pd\n",
        "from sklearn.preprocessing import LabelEncoder\n",
        "import xgboost as xgb\n",
        "\n",
        "def predict_crop_yield(dataset_file, temperature, rainfall, crop_type):\n",
        "    try:\n",
        "        # Load the dataset\n",
        "        dataset = pd.read_csv(dataset_file)\n",
        "\n",
        "        # Perform necessary conversions for categorical values\n",
        "        label_encoder = LabelEncoder()\n",
        "        dataset['crop_type'] = label_encoder.fit_transform(dataset['crop_type'])\n",
        "\n",
        "        # Separate features (X) and target variable (y)\n",
        "        X = dataset.drop('yield', axis=1)\n",
        "        y = dataset['yield']\n",
        "\n",
        "        # Create DMatrix for XGBoost\n",
        "        dtrain = xgb.DMatrix(X, label=y)\n",
        "\n",
        "        # Set parameters for XGBoost\n",
        "        params = {\n",
        "            'objective': 'reg:squarederror', # Regression task\n",
        "        }\n",
        "\n",
        "        # Train the XGBoost model\n",
        "        model = xgb.train(params, dtrain, num_boost_round=100)\n",
        "\n",
        "        # Create input features for prediction\n",
        "        crop_type_encoded = label_encoder.transform([crop_type])\n",
        "        user_input = pd.DataFrame({'temperature': [temperature],\n",
        "                                   'rainfall': [rainfall],\n",
        "                                   'crop_type': crop_type_encoded})\n",
        "        duser = xgb.DMatrix(user_input)\n",
        "\n",
        "        # Make prediction based on user input\n",
        "        predicted_yield = model.predict(duser)\n",
        "\n",
        "        return predicted_yield[0]\n",
        "    except Exception as e:\n",
        "        return f\"Error occurred: {str(e)}\"\n",
        "\n",
        "# Example usage:\n",
        "# predicted_yield = predict_crop_yield('crop_data.csv', 25, 100, 'Wheat')\n",
        "# print(\"Predicted crop yield:\", predicted_yield)\n"
      ]
    }
  ]
}